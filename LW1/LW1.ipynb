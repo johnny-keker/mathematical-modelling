{
 "cells": [
  {
   "cell_type": "markdown",
   "metadata": {},
   "source": [
    "# import"
   ]
  },
  {
   "cell_type": "code",
   "execution_count": 17,
   "metadata": {},
   "outputs": [],
   "source": [
    "import openpyxl\n",
    "import math"
   ]
  },
  {
   "cell_type": "markdown",
   "metadata": {},
   "source": [
    "# Загрузка данных из .xlsx"
   ]
  },
  {
   "cell_type": "code",
   "execution_count": 14,
   "metadata": {},
   "outputs": [
    {
     "name": "stdout",
     "output_type": "stream",
     "text": [
      "Введите путь к .xlsx таблице (оставьте пустым для загрузки из таблицы по умолчанию): \n",
      "Загружена трасса из 300 из файла 3302_Kalugina_Sarzhevskiy.xlsx\n"
     ]
    }
   ],
   "source": [
    "default_path = '3302_Kalugina_Sarzhevskiy.xlsx'\n",
    "\n",
    "path = input('Введите путь к .xlsx таблице (оставьте пустым для загрузки из таблицы по умолчанию): ')\n",
    "\n",
    "wb = openpyxl.load_workbook(default_path) if path == '' else openpyxl.load_workbook(path)\n",
    "sh = wb.active\n",
    "\n",
    "input_data = []\n",
    "\n",
    "for i in range(1, 301):\n",
    "    input_data.append(float(sh.cell(row=i, column=1).value))\n",
    "\n",
    "if path == '':\n",
    "    print(f\"Загружена трасса из {len(input_data)} из файла {default_path}\")\n",
    "else:\n",
    "    print(f\"Загружена трасса из {len(input_data)} из файла {path}\")"
   ]
  },
  {
   "cell_type": "markdown",
   "metadata": {},
   "source": [
    "# Оценки мат. ожидания, дисперсии и ср. кв. отклонения"
   ]
  },
  {
   "cell_type": "code",
   "execution_count": 18,
   "metadata": {},
   "outputs": [
    {
     "name": "stdout",
     "output_type": "stream",
     "text": [
      "Оценка математического ожидания: 1.63875903026897\n",
      "Оценка диперсии: 11.280630849539067\n",
      "Оценка среднеквадратического отклонения: 0.19391261648432492\n"
     ]
    }
   ],
   "source": [
    "expected_value = sum(input_data) / len(input_data)\n",
    "print(f\"Оценка математического ожидания: {expected_value}\")\n",
    "\n",
    "dispersion = sum([(x - expected_value)**2 for x in input_data]) / (len(input_data) - 1)\n",
    "print(f\"Оценка диперсии: {dispersion}\")\n",
    "\n",
    "standard_deviation = math.sqrt(dispersion / len(input_data))\n",
    "print(f\"Оценка среднеквадратического отклонения: {standard_deviation}\")"
   ]
  }
 ],
 "metadata": {
  "kernelspec": {
   "display_name": "Python 3",
   "language": "python",
   "name": "python3"
  },
  "language_info": {
   "codemirror_mode": {
    "name": "ipython",
    "version": 3
   },
   "file_extension": ".py",
   "mimetype": "text/x-python",
   "name": "python",
   "nbconvert_exporter": "python",
   "pygments_lexer": "ipython3",
   "version": "3.7.4"
  }
 },
 "nbformat": 4,
 "nbformat_minor": 2
}
