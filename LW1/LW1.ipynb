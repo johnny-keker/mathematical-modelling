{
 "cells": [
  {
   "cell_type": "markdown",
   "metadata": {},
   "source": [
    "# import"
   ]
  },
  {
   "cell_type": "code",
   "execution_count": 17,
   "metadata": {},
   "outputs": [],
   "source": [
    "import openpyxl\n",
    "import math"
   ]
  },
  {
   "cell_type": "markdown",
   "metadata": {},
   "source": [
    "# Загрузка данных из .xlsx"
   ]
  },
  {
   "cell_type": "code",
   "execution_count": 14,
   "metadata": {},
   "outputs": [
    {
     "name": "stdout",
     "output_type": "stream",
     "text": [
      "Введите путь к .xlsx таблице (оставьте пустым для загрузки из таблицы по умолчанию): \n",
      "Загружена трасса из 300 из файла 3302_Kalugina_Sarzhevskiy.xlsx\n"
     ]
    }
   ],
   "source": [
    "default_path = '3302_Kalugina_Sarzhevskiy.xlsx'\n",
    "\n",
    "path = input('Введите путь к .xlsx таблице (оставьте пустым для загрузки из таблицы по умолчанию): ')\n",
    "\n",
    "wb = openpyxl.load_workbook(default_path) if path == '' else openpyxl.load_workbook(path)\n",
    "sh = wb.active\n",
    "\n",
    "input_data = []\n",
    "\n",
    "for i in range(1, 301):\n",
    "    input_data.append(float(sh.cell(row=i, column=1).value))\n",
    "\n",
    "if path == '':\n",
    "    print(f\"Загружена трасса из {len(input_data)} чисел из файла {default_path}\")\n",
    "else:\n",
    "    print(f\"Загружена трасса из {len(input_data)} чисел из файла {path}\")"
   ]
  },
  {
   "cell_type": "markdown",
   "metadata": {},
   "source": [
    "# Оценки мат. ожидания, дисперсии и ср. кв. отклонения"
   ]
  },
  {
   "cell_type": "code",
   "execution_count": 24,
   "metadata": {},
   "outputs": [
    {
     "name": "stdout",
     "output_type": "stream",
     "text": [
      "Оценка математического ожидания для 10 элементов: 1.920856418997817\n",
      "Оценка диперсии для 10 элементов: 15.251124970522158\n",
      "Оценка среднеквадратического отклонения для 10 элементов: 0.22547080350917692\n",
      "\n",
      "Оценка математического ожидания для 50 элементов: 2.199855565563386\n",
      "Оценка диперсии для 50 элементов: 15.765920806944548\n",
      "Оценка среднеквадратического отклонения для 50 элементов: 0.2292445623269652\n",
      "\n",
      "Оценка математического ожидания для 100 элементов: 1.9333170603657206\n",
      "Оценка диперсии для 100 элементов: 14.603477111238902\n",
      "Оценка среднеквадратического отклонения для 100 элементов: 0.22063149602326276\n",
      "\n",
      "Оценка математического ожидания для 200 элементов: 1.4443812169321573\n",
      "Оценка диперсии для 200 элементов: 8.712655464600914\n",
      "Оценка среднеквадратического отклонения для 200 элементов: 0.17041767772740904\n",
      "\n",
      "Оценка математического ожидания для 300 элементов: 1.63875903026897\n",
      "Оценка диперсии для 300 элементов: 11.280630849539067\n",
      "Оценка среднеквадратического отклонения для 300 элементов: 0.19391261648432492\n"
     ]
    }
   ],
   "source": [
    "def compute_characteristics_for_n_values(n):\n",
    "    expected_value = sum(input_data[:n]) / n\n",
    "    print(f\"Оценка математического ожидания для {n} элементов: {expected_value}\")\n",
    "\n",
    "    dispersion = sum([(x - expected_value)**2 for x in input_data[:n]]) / (n - 1)\n",
    "    print(f\"Оценка диперсии для {n} элементов: {dispersion}\")\n",
    "\n",
    "    standard_deviation = math.sqrt(dispersion / len(input_data))\n",
    "    print(f\"Оценка среднеквадратического отклонения для {n} элементов: {standard_deviation}\")\n",
    "    \n",
    "    return [expected_value, dispersion, standard_deviation]\n",
    "    \n",
    "c_10 = compute_characteristics_for_n_values(10)\n",
    "print()\n",
    "c_50 = compute_characteristics_for_n_values(50)\n",
    "print()\n",
    "c_100 = compute_characteristics_for_n_values(100)\n",
    "print()\n",
    "c_200 = compute_characteristics_for_n_values(200)\n",
    "print()\n",
    "c_300 = compute_characteristics_for_n_values(300)"
   ]
  }
 ],
 "metadata": {
  "kernelspec": {
   "display_name": "Python 3",
   "language": "python",
   "name": "python3"
  },
  "language_info": {
   "codemirror_mode": {
    "name": "ipython",
    "version": 3
   },
   "file_extension": ".py",
   "mimetype": "text/x-python",
   "name": "python",
   "nbconvert_exporter": "python",
   "pygments_lexer": "ipython3",
   "version": "3.7.4"
  }
 },
 "nbformat": 4,
 "nbformat_minor": 2
}
